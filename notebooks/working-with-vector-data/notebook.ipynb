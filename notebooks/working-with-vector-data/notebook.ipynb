{
  "cells": [
    {
      "cell_type": "markdown",
      "id": "b80549ed-1471-4fc5-8b1a-a3050246078a",
      "metadata": {},
      "source": [
        "<div id=\"singlestore-header\" style=\"display: flex; background-color: rgba(235, 249, 245, 0.25); padding: 5px;\">\n",
        "    <div id=\"icon-image\" style=\"width: 90px; height: 90px;\">\n",
        "        <img width=\"100%\" height=\"100%\" src=\"https://raw.githubusercontent.com/singlestore-labs/spaces-notebooks/master/common/images/header-icons/browser.png\" />\n",
        "    </div>\n",
        "    <div id=\"text\" style=\"padding: 5px; margin-left: 10px;\">\n",
        "        <div id=\"badge\" style=\"display: inline-block; background-color: rgba(0, 0, 0, 0.15); border-radius: 4px; padding: 4px 8px; align-items: center; margin-top: 6px; margin-bottom: -2px; font-size: 80%\">SingleStore Notebooks</div>\n",
        "        <h1 style=\"font-weight: 500; margin: 8px 0 0 4px;\">Working with Vector Data</h1>\n",
        "    </div>\n",
        "</div>"
      ]
    },
    {
      "cell_type": "markdown",
      "id": "09cb34bc",
      "metadata": {},
      "source": [
        "<div class=\"alert alert-block alert-warning\">\n",
        "    <b class=\"fa fa-solid fa-exclamation-circle\"></b>\n",
        "    <div>\n",
        "        <p><b>Note</b></p>\n",
        "        <p> This notebook can be run on a Free Starter Workspace. To create a Free Starter Workspace navigate to <tt>Start</tt> using the left nav. You can also use your existing Standard or Premium workspace with this Notebook. </p>\n",
        "    </div>\n",
        "</div>"
      ]
    },
    {
      "cell_type": "markdown",
      "id": "782ffea9-fbc0-4942-8a1a-da8788ed2fec",
      "metadata": {},
      "source": [
        "Using vector embeddings has become popular recently, but getting vector data into your\n",
        "database can leave you with a lot of questions. This notebook shows various ways to\n",
        "load vectors into SingleStoreDB from Python using the Python client, SQLAlchemy, pandas,\n",
        "and the SQL magic commaands. It covers vectors in the form of numpy arrays or Python lists\n",
        "of numerics.\n",
        "\n",
        "We'll use the following function to reset the vector data table between examples."
      ]
    },
    {
      "cell_type": "code",
      "execution_count": 1,
      "id": "f7fe2c95-9e0d-4b1b-ad24-d0536c4ef2d9",
      "metadata": {},
      "outputs": [],
      "source": [
        "def reset_table():\n",
        "    \"\"\"Reset the table for use in the examples below.\"\"\"\n",
        "    with s2.connect() as conn:\n",
        "        with conn.cursor() as cur:\n",
        "            cur.execute('DROP TABLE IF EXISTS vectors;')\n",
        "            cur.execute(r'''\n",
        "                CREATE TABLE vectors (\n",
        "                    vec_f32 BLOB\n",
        "                );\n",
        "            ''')"
      ]
    },
    {
      "cell_type": "markdown",
      "id": "d087092f-696c-4735-9c66-33b8efc885ca",
      "metadata": {},
      "source": [
        "At any time, if you want to see the actual query being sent to the database, you can set the following\n",
        "environment variable before making the query to the server."
      ]
    },
    {
      "cell_type": "code",
      "execution_count": 2,
      "id": "45628671-dee1-41fe-ae77-b8c651c8c389",
      "metadata": {},
      "outputs": [],
      "source": [
        "import os\n",
        "\n",
        "# os.environ['SINGLESTOREDB_DEBUG_QUERIES'] = '1'"
      ]
    },
    {
      "cell_type": "markdown",
      "id": "9b1cd9d3",
      "metadata": {},
      "source": [
        "<div class=\"alert alert-block alert-warning\">\n",
        "    <b class=\"fa fa-solid fa-exclamation-circle\"></b>\n",
        "    <div>\n",
        "        <p><b>Action Required</b></p>\n",
        "        <p> If you have a Free Starter Workspace deployed already, select the database from drop-down menu at the top of this notebook. It updates the <tt>connection_url</tt> to connect to that database.</p>\n",
        "    </div>\n",
        "</div>"
      ]
    },
    {
      "cell_type": "markdown",
      "id": "e2e322f5-b81d-4249-b512-bd36f88aa168",
      "metadata": {},
      "source": [
        "Create a database for our examples."
      ]
    },
    {
      "cell_type": "code",
      "execution_count": 3,
      "id": "fec12f93-7ca6-4f77-bc7f-355b0bfa98f9",
      "metadata": {},
      "outputs": [],
      "source": [
        "shared_tier_check = %sql show variables like 'is_shared_tier'\n",
        "if not shared_tier_check or shared_tier_check[0][1] == 'OFF':\n",
        "    %sql DROP DATABASE IF EXISTS vector_data;\n",
        "    %sql CREATE DATABASE vector_data;"
      ]
    },
    {
      "cell_type": "markdown",
      "id": "1f2db020-7f76-44d0-9b32-cc81d35979ef",
      "metadata": {},
      "source": [
        "<div class=\"alert alert-block alert-warning\">\n",
        "    <b class=\"fa fa-solid fa-exclamation-circle\"></b>\n",
        "    <div>\n",
        "        <p><b>Action Required</b></p>\n",
        "        <p>Make sure to select the vector_data database from the drop-down menu at the top of this notebook. It updates the connection_url which is used by the %%sql magic command and SQLAlchemy to make connections to the selected database.</p>\n",
        "    </div>\n",
        "</div>"
      ]
    },
    {
      "cell_type": "markdown",
      "id": "3e65bd3b-49b4-48ca-8409-e3da89ebcce4",
      "metadata": {},
      "source": [
        "## Generate numpy arrays containing vector data\n",
        "\n",
        "The code belowe generates 1,000 rows of 10 random 32-bit float numbers in a numpy array.\n",
        "This data will be used in the following examples."
      ]
    },
    {
      "cell_type": "code",
      "execution_count": 4,
      "id": "c9fd6e9f-5513-45b3-bc4f-395e115ccd9e",
      "metadata": {},
      "outputs": [],
      "source": [
        "import numpy as np"
      ]
    },
    {
      "cell_type": "code",
      "execution_count": 5,
      "id": "aab67ef8-8bd1-4f9e-957a-ac8248984f4f",
      "metadata": {},
      "outputs": [],
      "source": [
        "vec_f32 = [np.random.rand(10).astype(np.float32) for _ in range(1000)]\n",
        "vec_f32[:3]"
      ]
    },
    {
      "cell_type": "markdown",
      "id": "1539013e-6ad8-49cc-aafd-e0aa5c2dbf60",
      "metadata": {},
      "source": [
        "### Create a Python list of float values from the numpy array\n",
        "\n",
        "We will show how to work with both numpy arrays and Python lists in the following examples.\n",
        "This cell creates a list of Python lists of floats equivalent to the numpy arrays above."
      ]
    },
    {
      "cell_type": "code",
      "execution_count": 6,
      "id": "c72202fa-3a15-42a0-83f2-2650a6d5faa6",
      "metadata": {},
      "outputs": [],
      "source": [
        "vec_f32_list = [list([float(y) for y in x]) for x in vec_f32]\n",
        "vec_f32_list[:3]"
      ]
    },
    {
      "cell_type": "markdown",
      "id": "ebe71955-7358-4c7c-add8-162f5bca098a",
      "metadata": {},
      "source": [
        "## Upload and downloading data to SingleStoreDB\n",
        "\n",
        "In the following sections, we'll describe how to use the SingleStoreDB Python client, SQLAlchemy, the `%%sql` magic,\n",
        "and pandas to upload and download vector data."
      ]
    },
    {
      "cell_type": "markdown",
      "id": "2860a4f6-bfc6-4bc0-89d8-6c9d765f1240",
      "metadata": {},
      "source": [
        "### Using SingleStoreDB Python client"
      ]
    },
    {
      "cell_type": "code",
      "execution_count": 7,
      "id": "35cd7e37-d05f-424f-98c7-ae61958c42d5",
      "metadata": {},
      "outputs": [],
      "source": [
        "import singlestoredb as s2\n",
        "\n",
        "conn = s2.connect()\n",
        "cursor = conn.cursor()"
      ]
    },
    {
      "cell_type": "markdown",
      "id": "66e77736-4625-481b-9991-d7e7f28401cb",
      "metadata": {},
      "source": [
        "#### Working with numpy arrays"
      ]
    },
    {
      "cell_type": "markdown",
      "id": "2d1453cd-21d2-4843-a41a-6aa1a33ce0a1",
      "metadata": {},
      "source": [
        "The SingleStoreDB Python client supports numpy arrays natively. If a numpy array is passed as a parameter to a query,\n",
        "it will be converted to a byte string containing the contents of the array. The data type of the numpy array is\n",
        "preserved, so you need to ensure that it is the proper numpy dtype before uploading. You can change the data type\n",
        "of a numpy array by using the `astype` method."
      ]
    },
    {
      "cell_type": "code",
      "execution_count": 8,
      "id": "5fa23885-106d-4b37-ade2-d7b6e6c8b593",
      "metadata": {},
      "outputs": [],
      "source": [
        "reset_table()"
      ]
    },
    {
      "cell_type": "markdown",
      "id": "a752e82f-bdf9-442e-94eb-9e29459da840",
      "metadata": {},
      "source": [
        "Recall that `vec_f32` contained numpy arrays of float32 values."
      ]
    },
    {
      "cell_type": "code",
      "execution_count": 9,
      "id": "9fcdb1ce-254b-4420-815e-76cb2199ac05",
      "metadata": {},
      "outputs": [],
      "source": [
        "vec_f32[:3]"
      ]
    },
    {
      "cell_type": "markdown",
      "id": "df0f98b0-d916-4113-a34c-e0c13cffa242",
      "metadata": {},
      "source": [
        "The `executemany` method will insert multiple rows of data in a single SQL query."
      ]
    },
    {
      "cell_type": "code",
      "execution_count": 10,
      "id": "b55d0954-9e8c-468b-b1da-019a3adf4fd2",
      "metadata": {},
      "outputs": [],
      "source": [
        "cursor.executemany('INSERT INTO vectors(vec_f32) VALUES (%s)', vec_f32)"
      ]
    },
    {
      "cell_type": "markdown",
      "id": "f929f1ed-2ee1-4209-a27d-121bec2a3a79",
      "metadata": {},
      "source": [
        "To download the vector data from SingleStoreDB, you simple execute a `SELECT` statement. The data is held in\n",
        "blob columns, so the result will simply contain byte strings."
      ]
    },
    {
      "cell_type": "code",
      "execution_count": 11,
      "id": "218071ef-0742-460b-b0a4-b079970ae568",
      "metadata": {},
      "outputs": [],
      "source": [
        "cursor.execute('SELECT vec_f32 FROM vectors LIMIT 5')"
      ]
    },
    {
      "cell_type": "markdown",
      "id": "22892481-3d71-48aa-abe3-ffd63b309419",
      "metadata": {},
      "source": [
        "Since we want to use the data as numpy arrays, we can \"reconstitute\" the arrays as we read the data using the `np.frombuffer` function."
      ]
    },
    {
      "cell_type": "code",
      "execution_count": 12,
      "id": "52bfac93-5503-4144-8700-95db21f13897",
      "metadata": {},
      "outputs": [],
      "source": [
        "out_f32 = [np.frombuffer(x[0], dtype=np.float32) for x in cursor]\n",
        "out_f32"
      ]
    },
    {
      "cell_type": "markdown",
      "id": "390b149f-8039-43ee-ae43-215ea7997a4f",
      "metadata": {},
      "source": [
        "#### Working with Python lists\n",
        "\n",
        "It is also possible to upload Python lists without going through a numpy array using the [struct](https://docs.python.org/3/library/struct.html) package. In this method, we convert\n",
        "the floats to a byte string and pass that byte string as the parameter to the `INSERT` statement. The possible format codes are as follows.\n",
        "The little-endian indicator (`<`) should also be used.\n",
        "\n",
        "* f - float32\n",
        "* d - float64\n",
        "* b - int8\n",
        "* h - int16\n",
        "* l - int32\n",
        "* q - int64"
      ]
    },
    {
      "cell_type": "code",
      "execution_count": 13,
      "id": "5707a569-4361-4d69-a078-5c71bb547dce",
      "metadata": {},
      "outputs": [],
      "source": [
        "reset_table()"
      ]
    },
    {
      "cell_type": "code",
      "execution_count": 14,
      "id": "a0777da4-daba-4b06-8fb6-c7fcc30dcc25",
      "metadata": {},
      "outputs": [],
      "source": [
        "import struct\n",
        "\n",
        "# Construct the format for a vector of 10 32-bit floats, in this case it is '<10f'\n",
        "fmt = '<{}f'.format(len(vec_f32_list[0]))\n",
        "\n",
        "vec_f32_list_bytes = [struct.pack(fmt, *x) for x in vec_f32_list]\n",
        "vec_f32_list_bytes[:3]"
      ]
    },
    {
      "cell_type": "markdown",
      "id": "77a3b930-33cd-4436-a021-9e99ed94cd9c",
      "metadata": {},
      "source": [
        "##### The `INSERT` and `SELECT` code is the same as for numy arrays"
      ]
    },
    {
      "cell_type": "code",
      "execution_count": 15,
      "id": "0a1f4d5b-50f1-4987-b8f8-613b2b6f03bd",
      "metadata": {},
      "outputs": [],
      "source": [
        "cursor.executemany('INSERT INTO vectors(vec_f32) VALUES (%s)', vec_f32_list_bytes)"
      ]
    },
    {
      "cell_type": "code",
      "execution_count": 16,
      "id": "171acbee-c663-4073-843b-a3f83fa0a99a",
      "metadata": {},
      "outputs": [],
      "source": [
        "cursor.execute('SELECT vec_f32 FROM vectors LIMIT 5')"
      ]
    },
    {
      "cell_type": "markdown",
      "id": "b0b40daa-52a9-4bf8-aefd-4722974cb8f5",
      "metadata": {},
      "source": [
        "To unpack the rows as Python lists, we use the `struct` package again."
      ]
    },
    {
      "cell_type": "code",
      "execution_count": 17,
      "id": "63490736-c68b-49d5-8db1-8ec203c7a583",
      "metadata": {},
      "outputs": [],
      "source": [
        "out_f32_list = [list(struct.unpack(fmt, x[0])) for x in cursor]\n",
        "out_f32_list[:3]"
      ]
    },
    {
      "cell_type": "markdown",
      "id": "91927fbd-f19c-448a-926a-d4ee8dc3e607",
      "metadata": {},
      "source": [
        "### Using SQLAlchemy\n",
        "\n",
        "In order to use SingleStoreDB with SQLAlchemy, you need to install the `sqlalchemy-singlestoredb` dialect as follows.\n",
        "\n",
        "```\n",
        "pip install sqlalchemy-singlestoredb\n",
        "```"
      ]
    },
    {
      "cell_type": "code",
      "execution_count": 18,
      "id": "7d715701-eba1-4868-b223-a17a6fa4b6ce",
      "metadata": {},
      "outputs": [],
      "source": [
        "import sqlalchemy as sa\n",
        "\n",
        "eng = sa.create_engine(connection_url)\n",
        "conn = eng.connect()"
      ]
    },
    {
      "cell_type": "markdown",
      "id": "6ca1960a-a55e-465c-a4f2-3daeb56e2739",
      "metadata": {},
      "source": [
        "The SQLAlchemy method works much like the SingleStoreDB method. However, SQLAlchemy (v2+) requires parameters to be\n",
        "in a dictionary, and the substitution syntax is of the form `:var_name` where 'var_name' in the key in the dictionary."
      ]
    },
    {
      "cell_type": "markdown",
      "id": "473114ce-4b51-484d-90d9-eaafce4d4b58",
      "metadata": {},
      "source": [
        "#### Working with numpy arrays"
      ]
    },
    {
      "cell_type": "code",
      "execution_count": 19,
      "id": "74707c74-2529-43e1-ba87-b693403b5e8d",
      "metadata": {},
      "outputs": [],
      "source": [
        "reset_table()"
      ]
    },
    {
      "cell_type": "markdown",
      "id": "86eff78c-4b8f-40d1-bc9f-978fd39dada6",
      "metadata": {},
      "source": [
        "SQLAlchemy requires you to construct the query as a `sa.text` object. Parameters for inserting multple\n",
        "rows are in a list of dictionaries."
      ]
    },
    {
      "cell_type": "code",
      "execution_count": 20,
      "id": "03905527-9239-4fd7-9a9b-4c35da0b7447",
      "metadata": {},
      "outputs": [],
      "source": [
        "query = sa.text('INSERT INTO vectors(vec_f32) VALUES (:vec_f32)')\n",
        "conn.execute(query, [dict(vec_f32=x) for x in vec_f32])"
      ]
    },
    {
      "cell_type": "markdown",
      "id": "f95fb2be-e513-4555-b580-118f337e0f19",
      "metadata": {},
      "source": [
        "Selecting the data works much as before as well."
      ]
    },
    {
      "cell_type": "code",
      "execution_count": 21,
      "id": "d7b22128-188c-475e-a1cb-5c52261d8403",
      "metadata": {},
      "outputs": [],
      "source": [
        "result = conn.execute(sa.text('SELECT vec_f32 FROM vectors LIMIT 5'))"
      ]
    },
    {
      "cell_type": "markdown",
      "id": "f7bc12cf-6ce6-4c20-8fa4-e83c2cb49e71",
      "metadata": {},
      "source": [
        "We can use the `np.frombuffer` function again to convert the byte strings to numpy arrays."
      ]
    },
    {
      "cell_type": "code",
      "execution_count": 22,
      "id": "3391ee73-86c5-4913-b412-bf4d12fb9b68",
      "metadata": {},
      "outputs": [],
      "source": [
        "out_f32 = [np.frombuffer(x[0], dtype=np.float32) for x in result]\n",
        "out_f32"
      ]
    },
    {
      "cell_type": "markdown",
      "id": "893ff3b8-5f16-4736-b157-52eec72a6fea",
      "metadata": {},
      "source": [
        "#### Working with Python lists\n",
        "\n",
        "To upload Python lists of values, you use the `struct` package to construct the byte strings as described in the\n",
        "\"Uploading Python Lists\" in the previous section. The rest of the code here stays the same with the exception of\n",
        "replacing `vec_f32` with `vec_f32_list_bytes` as the query parameter for the `INSERT` query."
      ]
    },
    {
      "cell_type": "code",
      "execution_count": 23,
      "id": "4a4124d1-588b-408a-9d85-dc2acd8d8f31",
      "metadata": {},
      "outputs": [],
      "source": [
        "reset_table()"
      ]
    },
    {
      "cell_type": "markdown",
      "id": "3a09006f-6c12-40fd-b3d7-cd3b4c33f040",
      "metadata": {},
      "source": [
        "Recall that we create a list of bytes (vector) objects in the previous example. This list of vectors\n",
        "can be passed to the `INSERT` as well as numpy arrays."
      ]
    },
    {
      "cell_type": "code",
      "execution_count": 24,
      "id": "465ffe10-cc32-400c-adec-f4e91f25fb98",
      "metadata": {},
      "outputs": [],
      "source": [
        "vec_f32_list_bytes[:3]"
      ]
    },
    {
      "cell_type": "code",
      "execution_count": 25,
      "id": "97b2069f-2cd2-4af5-95cc-87637d1fc838",
      "metadata": {},
      "outputs": [],
      "source": [
        "query = sa.text('INSERT INTO vectors(vec_f32) VALUES (:vec_f32)')\n",
        "conn.execute(query, [dict(vec_f32=x) for x in vec_f32_list_bytes])"
      ]
    },
    {
      "cell_type": "code",
      "execution_count": 26,
      "id": "ea364348-8b95-4835-9481-11a7bf67fce0",
      "metadata": {},
      "outputs": [],
      "source": [
        "result = conn.execute(sa.text('SELECT vec_f32 FROM vectors LIMIT 5'))"
      ]
    },
    {
      "cell_type": "markdown",
      "id": "8fa7bd8e-8842-438f-a336-e93ecc321820",
      "metadata": {},
      "source": [
        "Unpacking the Python lists works as before as well."
      ]
    },
    {
      "cell_type": "code",
      "execution_count": 27,
      "id": "78b0619f-a057-4edb-a230-1e96c5b0b2e7",
      "metadata": {},
      "outputs": [],
      "source": [
        "out_f32_list = [list(struct.unpack(fmt, x[0])) for x in result]\n",
        "out_f32_list[:3]"
      ]
    },
    {
      "cell_type": "markdown",
      "id": "2b2db64d-8e96-4f59-b91a-3731ee934287",
      "metadata": {},
      "source": [
        "### Using pandas\n",
        "\n",
        "The pandas package has utilities for working with databases. The two primary methods / functions are\n",
        "`DataFrame.to_sql` which uploads `DataFrame` data to a table, and `pd.read_sql` which downloads\n",
        "data from a table."
      ]
    },
    {
      "cell_type": "code",
      "execution_count": 28,
      "id": "a53088c8-af5e-40f6-84b5-aa83cc81303f",
      "metadata": {},
      "outputs": [],
      "source": [
        "reset_table()"
      ]
    },
    {
      "cell_type": "code",
      "execution_count": 29,
      "id": "50511825-6506-45b4-9b36-607dcee37dea",
      "metadata": {},
      "outputs": [],
      "source": [
        "import pandas as pd"
      ]
    },
    {
      "cell_type": "markdown",
      "id": "91b876a8-da7d-48b5-89a9-8149fab91566",
      "metadata": {},
      "source": [
        "First, we'll create a pandas `DataFrame` with our numpy arrays."
      ]
    },
    {
      "cell_type": "markdown",
      "id": "fdf50e43-68a2-4cfb-a6a0-215d442f27c8",
      "metadata": {},
      "source": [
        "#### Working with numpy arrays"
      ]
    },
    {
      "cell_type": "code",
      "execution_count": 30,
      "id": "7f871623-9176-4865-97f4-5e89cf7c3a70",
      "metadata": {},
      "outputs": [],
      "source": [
        "df = pd.DataFrame(dict(vec_f32=pd.Series(vec_f32)))\n",
        "df.head()"
      ]
    },
    {
      "cell_type": "markdown",
      "id": "c37150fa-e5f1-49d5-b13b-e26e9e88ed92",
      "metadata": {},
      "source": [
        "We can use the `to_sql` method of the `DataFrame` to upload the data. Notice that we are using the SQLAlchemy\n",
        "connection we created in the previous section as the `con` parameter."
      ]
    },
    {
      "cell_type": "code",
      "execution_count": 31,
      "id": "1a853637-f29e-434a-9dd4-d2fb92bc4597",
      "metadata": {},
      "outputs": [],
      "source": [
        "df.to_sql('vectors', con=conn, if_exists='append', index=False)"
      ]
    },
    {
      "cell_type": "markdown",
      "id": "67fdc9d4-9d48-4af9-a4f9-b643a43992b9",
      "metadata": {},
      "source": [
        "To read the data, we use the `read_sql` function. As before, we are getting byte strings back that will need to be\n",
        "converted into numpy arrays."
      ]
    },
    {
      "cell_type": "code",
      "execution_count": 32,
      "id": "a75c5726-0ee7-4876-aac7-e71dc9752eae",
      "metadata": {},
      "outputs": [],
      "source": [
        "out_df = pd.read_sql('vectors', con=conn)\n",
        "out_df.head(3)"
      ]
    },
    {
      "cell_type": "markdown",
      "id": "9d774b5f-88f9-45b3-a54d-229020aa16af",
      "metadata": {},
      "source": [
        "We apply the `np.frombuffer` function to each element in the `vec_f32` column to reconstruct the numpy array."
      ]
    },
    {
      "cell_type": "code",
      "execution_count": 33,
      "id": "48b56238-b251-479f-9d1f-271f46a7111e",
      "metadata": {},
      "outputs": [],
      "source": [
        "out_df['vec_f32'] = out_df['vec_f32'].apply(lambda x: np.frombuffer(x, dtype=np.float32))"
      ]
    },
    {
      "cell_type": "code",
      "execution_count": 34,
      "id": "c4e77d6b-a93c-47d2-89ce-b1c502950c71",
      "metadata": {},
      "outputs": [],
      "source": [
        "out_df.head(3)"
      ]
    },
    {
      "cell_type": "markdown",
      "id": "71b184dd-641c-4ef0-91cf-c581143d3945",
      "metadata": {},
      "source": [
        "#### Working with Python lists\n",
        "\n",
        "Because Python lists are not typed arrays like numpy arrays, we have to convert them to bytes before\n",
        "uploading them."
      ]
    },
    {
      "cell_type": "code",
      "execution_count": 35,
      "id": "43187411-efe0-465d-b6dd-a167534f6823",
      "metadata": {},
      "outputs": [],
      "source": [
        "reset_table()"
      ]
    },
    {
      "cell_type": "markdown",
      "id": "6b0fa295-99e9-4846-9996-a704df463a36",
      "metadata": {},
      "source": [
        "Construct a `DataFrame` using Python lists as the data."
      ]
    },
    {
      "cell_type": "code",
      "execution_count": 36,
      "id": "1ed1b6c2-3c79-42b9-a671-41b2828c4c31",
      "metadata": {},
      "outputs": [],
      "source": [
        "df = pd.DataFrame(dict(vec_f32=vec_f32_list))\n",
        "df.head(3)"
      ]
    },
    {
      "cell_type": "markdown",
      "id": "94263962-9ec2-4e34-a08e-1e2ad41247dd",
      "metadata": {},
      "source": [
        "Note that we are using our `fmt` value from a previous section to convert the Python lists\n",
        "to bytes using `struct.pack`."
      ]
    },
    {
      "cell_type": "code",
      "execution_count": 37,
      "id": "3cb1b6e1-a732-4a2f-a751-095d6727e6ae",
      "metadata": {},
      "outputs": [],
      "source": [
        "fmt"
      ]
    },
    {
      "cell_type": "code",
      "execution_count": 38,
      "id": "6cdaafa5-7406-488b-a780-744f23b5c0e4",
      "metadata": {},
      "outputs": [],
      "source": [
        "df['vec_f32'] = df['vec_f32'].apply(lambda x: struct.pack(fmt, *x))"
      ]
    },
    {
      "cell_type": "code",
      "execution_count": 39,
      "id": "af739340-e5fd-482a-96c8-5eedf8202f1c",
      "metadata": {},
      "outputs": [],
      "source": [
        "df['vec_f32'].head(3)"
      ]
    },
    {
      "cell_type": "markdown",
      "id": "6f2d8675-c1ee-44d2-ac17-eef1c543d71c",
      "metadata": {},
      "source": [
        "Use the `to_sql` method to upload the `DataFrame`."
      ]
    },
    {
      "cell_type": "code",
      "execution_count": 40,
      "id": "49dde7bd-9823-4c55-8f34-4e16643e6b8e",
      "metadata": {},
      "outputs": [],
      "source": [
        "df.to_sql('vectors', con=conn, if_exists='append', index=False)"
      ]
    },
    {
      "cell_type": "code",
      "execution_count": 41,
      "id": "137a7f8e-d713-4179-bcad-66f194d1f839",
      "metadata": {},
      "outputs": [],
      "source": [
        "out_df = pd.read_sql('vectors', con=conn)\n",
        "out_df.head(3)"
      ]
    },
    {
      "cell_type": "markdown",
      "id": "99233fdb-57b2-4290-9038-7c3e5eaf553e",
      "metadata": {},
      "source": [
        "We now have to convert the byte strings back to Python lists."
      ]
    },
    {
      "cell_type": "code",
      "execution_count": 42,
      "id": "a60f967c-c8fe-4ad9-a11f-25f5fb35ce69",
      "metadata": {},
      "outputs": [],
      "source": [
        "out_df['vec_f32'] = out_df['vec_f32'].apply(lambda x: list(struct.unpack(fmt, x)))"
      ]
    },
    {
      "cell_type": "code",
      "execution_count": 43,
      "id": "2924f8b8-f543-4a2f-90c8-8e6e5c15275d",
      "metadata": {},
      "outputs": [],
      "source": [
        "out_df.head(3)"
      ]
    },
    {
      "cell_type": "markdown",
      "id": "8f070295-78e3-4137-82d6-8be8c64b3898",
      "metadata": {},
      "source": [
        "### Using the `%%sql` / `%sql` magic commands\n",
        "\n",
        "While the SQL magic commands are convenient for invoking basic SQL commands, they aren't quite as good\n",
        "for complex queries that insert data. The primary issue is that you must construct the query as a string\n",
        "and ensure that all of your data is properly escaped. We'll demonstrate some basics here, but the\n",
        "methods described in the previous sections are likely to work better."
      ]
    },
    {
      "cell_type": "code",
      "execution_count": 44,
      "id": "5f13939e-2254-4956-9537-315f1dde1b63",
      "metadata": {},
      "outputs": [],
      "source": [
        "reset_table()"
      ]
    },
    {
      "cell_type": "markdown",
      "id": "3ac2349f-d2bd-452d-9e4f-d869ef0e774f",
      "metadata": {},
      "source": [
        "#### Working with numpy arrays or Python lists\n",
        "\n",
        "The SQL magic commands do not do any of the automatic conversions of data to query parameters, so this must be done\n",
        "manually before creating the query. This is done the same way whether the source is numpy arrays or Python lists.\n",
        "In either case, you must convert the objects to byte strings as we have in the previous sections, then convert that\n",
        "byte string into a hex literal that can be used in the query."
      ]
    },
    {
      "cell_type": "code",
      "execution_count": 45,
      "id": "f6781046-e636-4495-8a99-e035db8988aa",
      "metadata": {},
      "outputs": [],
      "source": [
        "# Convert an element of the numpy array to a hex string\n",
        "vec_f32[0].tobytes().hex()"
      ]
    },
    {
      "cell_type": "code",
      "execution_count": 46,
      "id": "957f98e1-c3d5-4e7c-b43a-5583cdff045e",
      "metadata": {},
      "outputs": [],
      "source": [
        "# Convert an element of the Python list to a hex string\n",
        "struct.pack(fmt, *vec_f32_list[0]).hex()"
      ]
    },
    {
      "cell_type": "markdown",
      "id": "5424355e-fffb-4cc7-b0c3-eba7012d1bd1",
      "metadata": {},
      "source": [
        "To construct the query string for the `%%sql` command, we need to build the entire list of values to insert\n",
        "in a separate step. We'll insert the `X` at the beginning of the string to indicate a hex literal to\n",
        "SingleStoreDB. We'll also add the parentheses around the value for inserting multiple rows of data using\n",
        "the `INSERT` statement."
      ]
    },
    {
      "cell_type": "code",
      "execution_count": 47,
      "id": "e269be32-5b56-4e19-baed-6420d6fd4bfb",
      "metadata": {},
      "outputs": [],
      "source": [
        "params = [\"(X'{}')\".format(x.tobytes().hex()) for x in vec_f32]\n",
        "params[:3]"
      ]
    },
    {
      "cell_type": "code",
      "execution_count": 48,
      "id": "bd51d277-eec1-4787-b9b9-7a943f3eea0c",
      "metadata": {},
      "outputs": [],
      "source": [
        "%%sql\n",
        "INSERT INTO vectors(vec_f32) VALUES {{ ','.join(params) }}"
      ]
    },
    {
      "cell_type": "markdown",
      "id": "5b982cc3-5e8a-460c-beff-440dbae58144",
      "metadata": {},
      "source": [
        "We can now select the data."
      ]
    },
    {
      "cell_type": "code",
      "execution_count": 49,
      "id": "8a9ce43b-2ebc-4c9a-8898-afacaff13df9",
      "metadata": {},
      "outputs": [],
      "source": [
        "%%sql out <<\n",
        "SELECT * FROM vectors LIMIT 5"
      ]
    },
    {
      "cell_type": "code",
      "execution_count": 50,
      "id": "b10b2f71-02fd-4630-8ae0-7845a8385934",
      "metadata": {},
      "outputs": [],
      "source": [
        "out"
      ]
    },
    {
      "cell_type": "markdown",
      "id": "3178ea48-2bfd-44d2-8211-a291dd5bf5ba",
      "metadata": {},
      "source": [
        "At this point, there is nothing we can do with SQL magic commands to convert the data back into numpy arrays or Python\n",
        "lists. We need to drop to Python for that."
      ]
    },
    {
      "cell_type": "code",
      "execution_count": 51,
      "id": "5b6d0c98-a016-423c-a460-aa617615bcdf",
      "metadata": {},
      "outputs": [],
      "source": [
        "out_df = pd.DataFrame(out)"
      ]
    },
    {
      "cell_type": "code",
      "execution_count": 52,
      "id": "5a3e6552-b66c-460e-9394-04b6b1a25795",
      "metadata": {},
      "outputs": [],
      "source": [
        "out_df['vec_f32'] = out_df['vec_f32'].apply(lambda x: np.frombuffer(x, dtype=np.float32))"
      ]
    },
    {
      "cell_type": "code",
      "execution_count": 53,
      "id": "821ac65c-b8d5-47f5-8b14-945ed8e8d1fa",
      "metadata": {},
      "outputs": [],
      "source": [
        "out_df.head(3)"
      ]
    },
    {
      "cell_type": "markdown",
      "id": "ad5c2b96-0002-4948-87a4-949a68c3e0a2",
      "metadata": {},
      "source": [
        "### Using JSON\n",
        "\n",
        "It is also possible to use JSON to create vectors, however, this method require serializing and deserializing JSON on either\n",
        "end which isn't quite a efficient as the techniques above. It also requires using the `JSON_ARRAY_PACK` and `JSON_ARRAY_UNPACK`\n",
        "functions in your queries to go back and forth between the vector bytes and JSON. Here is an example of inserting the\n",
        "Python list of floats."
      ]
    },
    {
      "cell_type": "code",
      "execution_count": 54,
      "id": "df5af6d1-15e1-4867-a02c-31634a65393b",
      "metadata": {},
      "outputs": [],
      "source": [
        "import json"
      ]
    },
    {
      "cell_type": "code",
      "execution_count": 55,
      "id": "79f06760-9039-408a-a4c2-6331947dd3e4",
      "metadata": {},
      "outputs": [],
      "source": [
        "params = ['(JSON_ARRAY_PACK(\"{}\"))'.format(json.dumps(x)) for x in vec_f32_list]\n",
        "params[:3]"
      ]
    },
    {
      "cell_type": "code",
      "execution_count": 56,
      "id": "92217c8d-f374-49a6-8fb8-f21666681f95",
      "metadata": {},
      "outputs": [],
      "source": [
        "%%sql\n",
        "INSERT INTO vectors(vec_f32) VALUES {{ ','.join(params) }}"
      ]
    },
    {
      "cell_type": "markdown",
      "id": "bd323c0a-7de4-4c56-9fc4-f2a22f4f661c",
      "metadata": {},
      "source": [
        "If you use the `JSON_ARRAY_UNPACK` function in your `SELECT` statement, you can download the data as JSON."
      ]
    },
    {
      "cell_type": "code",
      "execution_count": 57,
      "id": "b9aac5ba-efea-466b-82c7-12fa02174630",
      "metadata": {},
      "outputs": [],
      "source": [
        "%%sql out <<\n",
        "SELECT JSON_ARRAY_UNPACK(vec_f32) AS 'vec_f32' FROM vectors LIMIT 5"
      ]
    },
    {
      "cell_type": "code",
      "execution_count": 58,
      "id": "9f9e9b6e-5a25-483b-9d40-aea95a302b5f",
      "metadata": {},
      "outputs": [],
      "source": [
        "out = pd.DataFrame(out)\n",
        "out"
      ]
    },
    {
      "cell_type": "code",
      "execution_count": 59,
      "id": "bbfe895a-0f09-4094-a835-793329ee388e",
      "metadata": {},
      "outputs": [],
      "source": [
        "out['vec_f32'][0]"
      ]
    },
    {
      "cell_type": "markdown",
      "id": "6bdb300a-a8f6-40cc-a5f9-de54508bb22b",
      "metadata": {},
      "source": [
        "Notice that since the data type of the column in the `SELECT` is JSON, it automatically gets converted to a Python list\n",
        "in the client."
      ]
    },
    {
      "cell_type": "code",
      "execution_count": 60,
      "id": "b5234146-b058-4462-b5d0-516ae699efc6",
      "metadata": {},
      "outputs": [],
      "source": [
        "type(out['vec_f32'][0])"
      ]
    },
    {
      "cell_type": "markdown",
      "id": "8a8cfd32-c903-4e9b-b27b-253fcbca6ad4",
      "metadata": {},
      "source": [
        "## Conclusion\n",
        "\n",
        "As you can see, there are various interfaces available for uploading and downloading vector data. Depending on\n",
        "which Python framework you are using and what format your data is in, you can pick and choose which\n",
        "methods work for your use-case."
      ]
    },
    {
      "cell_type": "markdown",
      "id": "42060943",
      "metadata": {},
      "source": [
        "<div class=\"alert alert-block alert-warning\">\n",
        "    <b class=\"fa fa-solid fa-exclamation-circle\"></b>\n",
        "    <div>\n",
        "        <p><b>Action Required</b></p>\n",
        "        <p> If you created a new database in your Standard or Premium Workspace, you can drop the database by running the cell below. Note: this will not drop your database for Free Starter Workspaces. To drop a Free Starter Workspace, terminate the Workspace using the UI. </p>\n",
        "    </div>\n",
        "</div>"
      ]
    },
    {
      "cell_type": "code",
      "execution_count": 61,
      "id": "8f911f36-0153-4959-828a-41e637cc9887",
      "metadata": {},
      "outputs": [],
      "source": [
        "shared_tier_check = %sql show variables like 'is_shared_tier'\n",
        "if not shared_tier_check or shared_tier_check[0][1] == 'OFF':\n",
        "    %sql DROP DATABASE IF EXISTS vector_data;"
      ]
    },
    {
      "cell_type": "markdown",
      "id": "546a9cee-db0a-438b-9fcc-081223339a9f",
      "metadata": {},
      "source": [
        "<div id=\"singlestore-footer\" style=\"background-color: rgba(194, 193, 199, 0.25); height:2px; margin-bottom:10px\"></div>\n",
        "<div><img src=\"https://raw.githubusercontent.com/singlestore-labs/spaces-notebooks/master/common/images/singlestore-logo-grey.png\" style=\"padding: 0px; margin: 0px; height: 24px\"/></div>"
      ]
    }
  ],
  "metadata": {
    "kernelspec": {
      "display_name": "Python 3 (ipykernel)",
      "language": "python",
      "name": "python3"
    },
    "language_info": {
      "codemirror_mode": {
        "name": "ipython",
        "version": 3
      },
      "file_extension": ".py",
      "mimetype": "text/x-python",
      "name": "python",
      "nbconvert_exporter": "python",
      "pygments_lexer": "ipython3",
      "version": "3.11.4"
    }
  },
  "nbformat": 4,
  "nbformat_minor": 5
}
