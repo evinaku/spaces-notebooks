{
  "cells": [
    {
      "cell_type": "markdown",
      "id": "8c9f7c64",
      "metadata": {},
      "source": [
        "<div id=\"singlestore-header\" style=\"display: flex; background-color: rgba(209, 153, 255, 0.25); padding: 5px;\">\n",
        "    <div id=\"icon-image\" style=\"width: 90px; height: 90px;\">\n",
        "        <img width=\"100%\" height=\"100%\" src=\"https://raw.githubusercontent.com/singlestore-labs/spaces-notebooks/master/common/images/header-icons/vector-circle.png\" />\n",
        "    </div>\n",
        "    <div id=\"text\" style=\"padding: 5px; margin-left: 10px;\">\n",
        "        <div id=\"badge\" style=\"display: inline-block; background-color: rgba(0, 0, 0, 0.15); border-radius: 4px; padding: 4px 8px; align-items: center; margin-top: 6px; margin-bottom: -2px; font-size: 80%\">SingleStore Notebooks</div>\n",
        "        <h1 style=\"font-weight: 500; margin: 8px 0 0 4px;\">Representing Unstructured Data as Vectors</h1>\n",
        "    </div>\n",
        "</div>"
      ]
    },
    {
      "cell_type": "markdown",
      "id": "e868fad2-ab36-4544-a5af-01f5f738d2ca",
      "metadata": {},
      "source": [
        "## Representing Unstructured Data as Vectors\n",
        "Visualizing these vectors and measuring the distance between these vectors using various methods such as Manhattan Distance, Euclidean Distance, Cosine Distance & Dot Product"
      ]
    },
    {
      "cell_type": "markdown",
      "id": "9a659bec-ce40-482f-8819-e6a17bc38b54",
      "metadata": {},
      "source": [
        "Let's take an example of two pets and visualize them in a 3D space. We will try to find the Manhattan Distance, Euclidean Distance, Cosine Distance & Dot Product between these two pets."
      ]
    },
    {
      "cell_type": "markdown",
      "id": "2167d436-e922-49a2-a3ba-a873d4738a9a",
      "metadata": {},
      "source": [
        "Hypothetically consider these vectors for to represent dog and cat.\n",
        "dog = [5, 30, 2]\n",
        "cat = [3, 25, 4]"
      ]
    },
    {
      "cell_type": "markdown",
      "id": "33a6d04e-170f-4e00-ab87-633661c1d92d",
      "metadata": {},
      "source": [
        "### Install the libraries required"
      ]
    },
    {
      "cell_type": "code",
      "execution_count": 1,
      "id": "4266432c-04be-4cbc-b079-125b621a6527",
      "metadata": {},
      "outputs": [],
      "source": [
        "!pip install numpy matplotlib --quiet"
      ]
    },
    {
      "cell_type": "markdown",
      "id": "d910f26d-0f08-4771-b468-7dbf5b477f1a",
      "metadata": {},
      "source": [
        "### Import the libraries"
      ]
    },
    {
      "cell_type": "code",
      "execution_count": 2,
      "id": "f6672c54-e90c-44ff-9005-ecd733d13805",
      "metadata": {},
      "outputs": [],
      "source": [
        "import matplotlib.pyplot as plt\n",
        "import numpy as np"
      ]
    },
    {
      "cell_type": "code",
      "execution_count": 3,
      "id": "f8d00505-6a2d-4139-a7bd-f3b84f121d82",
      "metadata": {},
      "outputs": [],
      "source": [
        "from mpl_toolkits.mplot3d import Axes3D\n",
        "\n",
        "# Example pets attributes: [weight, height, age]\n",
        "# These are hypothetical numbers for illustration purposes\n",
        "dog = [5, 30, 2]\n",
        "cat = [3, 25, 4]\n",
        "\n",
        "fig = plt.figure()\n",
        "ax = fig.add_subplot(111, projection='3d')\n",
        "\n",
        "# Plotting the pets\n",
        "ax.scatter(dog[0], dog[1], dog[2], label=\"Dog\", c='blue')\n",
        "ax.scatter(cat[0], cat[1], cat[2], label=\"Cat\", c='green')\n",
        "\n",
        "# Drawing lines from the origin to the points\n",
        "ax.quiver(0, 0, 0, dog[0], dog[1], dog[2], color='blue', arrow_length_ratio=0.1)\n",
        "ax.quiver(0, 0, 0, cat[0], cat[1], cat[2], color='green', arrow_length_ratio=0.1)\n",
        "\n",
        "# Labeling the axes\n",
        "ax.set_xlabel('Weight (kg)')\n",
        "ax.set_ylabel('Height (cm)')\n",
        "ax.set_zlabel('Age (years)')\n",
        "\n",
        "# Setting the limits for better visualization\n",
        "ax.set_xlim(0, 10)\n",
        "ax.set_ylim(0, 40)\n",
        "ax.set_zlim(0, 5)\n",
        "\n",
        "# Adding legend and title\n",
        "ax.legend()\n",
        "ax.set_title('3D Representation of Pets')\n",
        "\n",
        "plt.show()"
      ]
    },
    {
      "cell_type": "markdown",
      "id": "8c7ce294-3148-4c43-b3c6-e3a879a30edc",
      "metadata": {},
      "source": [
        "### Manhattan Distance"
      ]
    },
    {
      "cell_type": "markdown",
      "id": "bc4e2bc6-1fe9-4af1-9bde-4ca9b5da26ea",
      "metadata": {},
      "source": [
        "Manhattan distance is like calculating the total distance you would travel between two points (dog and cat here) if you could only move in straight lines"
      ]
    },
    {
      "cell_type": "code",
      "execution_count": 4,
      "id": "76716923-7235-43f7-9833-a9790192972f",
      "metadata": {},
      "outputs": [],
      "source": [
        "L1 = [abs(dog[i] - cat[i]) for i in range(len(dog))]\n",
        "sum(L1)"
      ]
    },
    {
      "cell_type": "markdown",
      "id": "f0217e8f-fa53-4f01-8f6d-1a8934b740e6",
      "metadata": {},
      "source": [
        "### Euclidean Distance"
      ]
    },
    {
      "cell_type": "markdown",
      "id": "f4496860-6428-41f1-9a70-1c5c0b2b79d0",
      "metadata": {},
      "source": [
        "Euclidean distance is like the straight-line distance between two points, as if you could draw a straight line from one point to another, not limited by any paths or grids, similar to how a bird would fly directly between two locations."
      ]
    },
    {
      "cell_type": "code",
      "execution_count": 5,
      "id": "3b88cae7-8702-4663-bc1e-ee11810274ae",
      "metadata": {},
      "outputs": [],
      "source": [
        "L2 = [(dog[i] - cat[i])**2 for i in range(len(dog))]\n",
        "\n",
        "L2 = np.sqrt(np.array(L2).sum())\n",
        "L2"
      ]
    },
    {
      "cell_type": "markdown",
      "id": "63c3f243-38f7-44fe-b121-b02d81580f5d",
      "metadata": {},
      "source": [
        "### Cosine Distance"
      ]
    },
    {
      "cell_type": "markdown",
      "id": "f260bccd-17aa-498a-8c1c-26c1fb342837",
      "metadata": {},
      "source": [
        "Cosine distance is a measure of orientation rather than actual distance; it's like comparing the directions in which two arrows are pointing, regardless of how long the arrows are or where they are located."
      ]
    },
    {
      "cell_type": "code",
      "execution_count": 6,
      "id": "bc2dba64-efe4-489d-9f51-7fc7c21bab0a",
      "metadata": {},
      "outputs": [],
      "source": [
        "cosine = np.dot(dog, cat) / (np.linalg.norm(dog) * np.linalg.norm(cat))\n",
        "cosine"
      ]
    },
    {
      "cell_type": "markdown",
      "id": "42ac6850-578e-4326-8f78-b9815ceee344",
      "metadata": {},
      "source": [
        "### Dot Product"
      ]
    },
    {
      "cell_type": "markdown",
      "id": "6581d30d-4f17-4439-8ab9-5c720537ae9f",
      "metadata": {},
      "source": [
        "The dot product is like measuring how much one vector goes in the same direction as another. It's like comparing two arrows and seeing how much one arrow points in the same direction as the other."
      ]
    },
    {
      "cell_type": "code",
      "execution_count": 7,
      "id": "83f3e765-c8e5-44d2-9e8f-660bcf3a86b6",
      "metadata": {},
      "outputs": [],
      "source": [
        "np.dot(dog,cat)"
      ]
    },
    {
      "cell_type": "markdown",
      "id": "cb02aafc",
      "metadata": {},
      "source": [
        "<div id=\"singlestore-footer\" style=\"background-color: rgba(194, 193, 199, 0.25); height:2px; margin-bottom:10px\"></div>\n",
        "<div><img src=\"https://raw.githubusercontent.com/singlestore-labs/spaces-notebooks/master/common/images/singlestore-logo-grey.png\" style=\"padding: 0px; margin: 0px; height: 24px\"/></div>"
      ]
    }
  ],
  "metadata": {
    "jupyterlab": {
      "notebooks": {
        "version_major": 6,
        "version_minor": 4
      }
    },
    "kernelspec": {
      "display_name": "Python 3 (ipykernel)",
      "language": "python",
      "name": "python3"
    },
    "language_info": {
      "codemirror_mode": {
        "name": "ipython",
        "version": 3
      },
      "file_extension": ".py",
      "mimetype": "text/x-python",
      "name": "python",
      "nbconvert_exporter": "python",
      "pygments_lexer": "ipython3",
      "version": "3.11.3"
    }
  },
  "nbformat": 4,
  "nbformat_minor": 5
}
