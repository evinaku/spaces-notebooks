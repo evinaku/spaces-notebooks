{
  "cells": [
    {
      "cell_type": "markdown",
      "id": "ce06fbf2-db8e-4fb9-9036-40f9ec8c4592",
      "metadata": {},
      "source": [
        "<div id=\"singlestore-header\" style=\"display: flex; background-color: rgba(255, 182, 176, 0.25); padding: 5px;\">\n",
        "    <div id=\"icon-image\" style=\"width: 90px; height: 90px;\">\n",
        "        <img width=\"100%\" height=\"100%\" src=\"https://raw.githubusercontent.com/singlestore-labs/spaces-notebooks/master/common/images/header-icons/camera-movie.png\" />\n",
        "    </div>\n",
        "    <div id=\"text\" style=\"padding: 5px; margin-left: 10px;\">\n",
        "        <div id=\"badge\" style=\"display: inline-block; background-color: rgba(0, 0, 0, 0.15); border-radius: 4px; padding: 4px 8px; align-items: center; margin-top: 6px; margin-bottom: -2px; font-size: 80%\">SingleStore Notebooks</div>\n",
        "        <h1 style=\"font-weight: 500; margin: 8px 0 0 4px;\">Movie Recommendation</h1>\n",
        "    </div>\n",
        "</div>"
      ]
    },
    {
      "cell_type": "markdown",
      "id": "e1c74826",
      "metadata": {},
      "source": [
        "<div class=\"alert alert-block alert-info\">\n",
        "    <b class=\"fa fa-solid fa-info-circle\"></b>\n",
        "    <div>\n",
        "        <p><b>Note</b></p>\n",
        "        <p>This tutorial is meant for Standard & Premium Workspaces. You can't run this with a Free Starter Workspace due to restrictions on Storage. Create a Workspace using +group in the left nav & select Standard for this notebook. Gallery notebooks tagged with \"Starter\" are suitable to run on a Free Starter Workspace </p>\n",
        "    </div>\n",
        "</div>"
      ]
    },
    {
      "cell_type": "markdown",
      "id": "7ed6450d-8003-47b8-9d31-4ffa221906ae",
      "metadata": {},
      "source": [
        "*Source*: [Full MovieLens 25M Dataset](https://grouplens.org/datasets/movielens/25m/) - [Appplication](https://movie-recommender-flask-t954.vercel.app/)\n",
        "\n",
        "This notebook demonstrates how SingleStoreDB helps you build a simple Movie Recommender System.\n",
        "\n",
        "<img src=https://raw.githubusercontent.com/singlestore-labs/spaces-notebooks/master/notebooks/movie-recommendation/images/database-tables.png width=\"1000\">"
      ]
    },
    {
      "cell_type": "markdown",
      "id": "f940c981-b378-40cf-bb24-53b6015e486d",
      "metadata": {},
      "source": [
        "## 1. Install required libraries\n",
        "\n",
        "Install the library for vectorizing the data (up to 2 minutes)."
      ]
    },
    {
      "cell_type": "code",
      "execution_count": 1,
      "id": "4fc72c97-8ba9-462b-b241-ae2ff4e7531c",
      "metadata": {},
      "outputs": [],
      "source": [
        "!pip install sentence-transformers --quiet"
      ]
    },
    {
      "cell_type": "markdown",
      "id": "5c9049cb-88b8-411a-b926-2517bd44859e",
      "metadata": {},
      "source": [
        "## 2. Create database and ingest data"
      ]
    },
    {
      "cell_type": "markdown",
      "id": "2642c910-72a8-433b-b5fe-e5654f93f239",
      "metadata": {},
      "source": [
        "Create the `movie_recommender` database."
      ]
    },
    {
      "cell_type": "code",
      "execution_count": 2,
      "id": "fd83f672-5ef5-4a8e-9e7a-267dd19815f7",
      "metadata": {},
      "outputs": [],
      "source": [
        "%%sql\n",
        "DROP DATABASE IF EXISTS movie_recommender;\n",
        "CREATE DATABASE IF NOT EXISTS movie_recommender;"
      ]
    },
    {
      "cell_type": "markdown",
      "id": "d6c75b9a-7a1f-44fe-9e25-f67f75c0d11f",
      "metadata": {},
      "source": [
        "<div class=\"alert alert-block alert-warning\">\n",
        "    <b class=\"fa fa-solid fa-exclamation-circle\"></b>\n",
        "    <div>\n",
        "        <p><b>Action Required</b></p>\n",
        "        <p>Make sure to select the <tt>movie_recommender</tt> database from the drop-down menu at the top of this notebook.\n",
        "        It updates the <tt>connection_url</tt> which is used by the <tt>%%sql</tt> magic command and SQLAlchemy to make connections to the selected database.</p>\n",
        "    </div>\n",
        "</div>"
      ]
    },
    {
      "cell_type": "markdown",
      "id": "d215945f-3dcf-4e8d-b201-361af227260c",
      "metadata": {},
      "source": [
        "Create `tags` table and start pipeline."
      ]
    },
    {
      "cell_type": "code",
      "execution_count": 3,
      "id": "f6e6f6d6-87c0-4cf8-9d21-72edf3416e8d",
      "metadata": {},
      "outputs": [],
      "source": [
        "%%sql\n",
        "CREATE TABLE IF NOT EXISTS tags (\n",
        "    `userId` bigint(20) NULL,\n",
        "    `movieId` bigint(20) NULL,\n",
        "    `tag` text CHARACTER SET utf8 COLLATE utf8_general_ci NULL,\n",
        "    `timestamp` bigint(20) NULL\n",
        ");\n",
        "\n",
        "CREATE PIPELINE tags\n",
        "    AS LOAD DATA S3 'studiotutorials/movielens/tags.csv'\n",
        "    CONFIG '{\\\"region\\\":\\\"us-east-1\\\", \\\"disable_gunzip\\\": false}'\n",
        "    BATCH_INTERVAL 2500\n",
        "    MAX_PARTITIONS_PER_BATCH 1\n",
        "    DISABLE OUT_OF_ORDER OPTIMIZATION\n",
        "    DISABLE OFFSETS METADATA GC\n",
        "    SKIP DUPLICATE KEY ERRORS\n",
        "    INTO TABLE `tags`\n",
        "    FIELDS TERMINATED BY ',' ENCLOSED BY '\"' ESCAPED BY '\\\\'\n",
        "    LINES TERMINATED BY '\\r\\n'\n",
        "    NULL DEFINED BY ''\n",
        "    IGNORE 1 LINES\n",
        "    (userId, movieId, tag, timestamp);\n",
        "\n",
        "START PIPELINE tags;"
      ]
    },
    {
      "cell_type": "markdown",
      "id": "a85c13ff-e719-46b4-a781-891d60415ca8",
      "metadata": {},
      "source": [
        "Create `ratings` table and start pipeline."
      ]
    },
    {
      "cell_type": "code",
      "execution_count": 4,
      "id": "4c55da7c-fc1e-446c-aa9d-52ee3b085d97",
      "metadata": {},
      "outputs": [],
      "source": [
        "%%sql\n",
        "CREATE TABLE IF NOT EXISTS ratings (\n",
        "    userId bigint(20) DEFAULT NULL,\n",
        "    movieId bigint(20) DEFAULT NULL,\n",
        "    rating double DEFAULT NULL,\n",
        "    timestamp bigint(20) DEFAULT NULL\n",
        ");\n",
        "\n",
        "CREATE PIPELINE ratings\n",
        "    AS LOAD DATA S3 'studiotutorials/movielens/ratings.csv'\n",
        "    CONFIG '{\\\"region\\\":\\\"us-east-1\\\", \\\"disable_gunzip\\\": false}'\n",
        "    BATCH_INTERVAL 2500\n",
        "    MAX_PARTITIONS_PER_BATCH 1\n",
        "    DISABLE OUT_OF_ORDER OPTIMIZATION\n",
        "    DISABLE OFFSETS METADATA GC\n",
        "    SKIP DUPLICATE KEY ERRORS\n",
        "    INTO TABLE `ratings`\n",
        "    FIELDS TERMINATED BY ',' ENCLOSED BY '\"' ESCAPED BY '\\\\'\n",
        "    LINES TERMINATED BY '\\r\\n'\n",
        "    NULL DEFINED BY ''\n",
        "    IGNORE 1 LINES\n",
        "    (userId, movieId, rating, timestamp);\n",
        "\n",
        "START PIPELINE ratings;"
      ]
    },
    {
      "cell_type": "markdown",
      "id": "e79e99ac-190b-481c-bf8f-7d66265fba81",
      "metadata": {},
      "source": [
        "Create `movies` table and start pipeline."
      ]
    },
    {
      "cell_type": "code",
      "execution_count": 5,
      "id": "fba97ca5-3673-4ce8-b6f7-3214f6205bd9",
      "metadata": {},
      "outputs": [],
      "source": [
        "%%sql\n",
        "CREATE TABLE movies (\n",
        "    movieId bigint(20) DEFAULT NULL,\n",
        "    title text CHARACTER SET utf8 COLLATE utf8_general_ci,\n",
        "    genres text CHARACTER SET utf8 COLLATE utf8_general_ci,\n",
        "    FULLTEXT(title)\n",
        ");\n",
        "\n",
        "CREATE PIPELINE movies\n",
        "    AS LOAD DATA S3 'studiotutorials/movielens/movies.csv'\n",
        "    CONFIG '{\\\"region\\\":\\\"us-east-1\\\", \\\"disable_gunzip\\\": false}'\n",
        "    BATCH_INTERVAL 2500\n",
        "    MAX_PARTITIONS_PER_BATCH 1\n",
        "    DISABLE OUT_OF_ORDER OPTIMIZATION\n",
        "    DISABLE OFFSETS METADATA GC\n",
        "    SKIP DUPLICATE KEY ERRORS\n",
        "    INTO TABLE `movies`\n",
        "    FIELDS TERMINATED BY ',' ENCLOSED BY '\"' ESCAPED BY '\\\\'\n",
        "    LINES TERMINATED BY '\\r\\n'\n",
        "    NULL DEFINED BY ''\n",
        "    IGNORE 1 LINES\n",
        "    (movieId, title, genres);\n",
        "\n",
        "START PIPELINE movies;"
      ]
    },
    {
      "cell_type": "markdown",
      "id": "6e41ed09-2cc3-4fb7-90da-077a04111417",
      "metadata": {},
      "source": [
        "### Check that all the data has been loaded\n",
        "\n",
        "There should be 25m rows for ratings, 62k for movies and 1m for tags. If the values are less than that, try the query\n",
        "again in a few seconds, the pipelines are still running."
      ]
    },
    {
      "cell_type": "code",
      "execution_count": 6,
      "id": "cf4c1d0f-8de2-42ea-ab33-7dadbde74855",
      "metadata": {},
      "outputs": [],
      "source": [
        "%%sql\n",
        "SELECT COUNT(*) AS count_rows FROM ratings\n",
        "UNION ALL\n",
        "SELECT COUNT(*) AS count_rows FROM movies\n",
        "UNION ALL\n",
        "SELECT COUNT(*) AS count_rows FROM tags"
      ]
    },
    {
      "cell_type": "markdown",
      "id": "0fb4162d-a55a-4926-9ce0-500d5909e3a2",
      "metadata": {},
      "source": [
        "### Concatenate `tags` and `movies` tables using all tags"
      ]
    },
    {
      "cell_type": "code",
      "execution_count": 7,
      "id": "17be3378-28ea-4487-9177-a266d0998a08",
      "metadata": {},
      "outputs": [],
      "source": [
        "%%sql\n",
        "CREATE TABLE movies_with_tags AS\n",
        "    SELECT\n",
        "        m.movieId,\n",
        "        m.title,\n",
        "        m.genres,\n",
        "        GROUP_CONCAT(t.tag SEPARATOR ',') AS allTags\n",
        "    FROM movies m\n",
        "    LEFT JOIN tags t ON m.movieId = t.movieId\n",
        "    GROUP BY m.movieId, m.title, m.genres;"
      ]
    },
    {
      "cell_type": "markdown",
      "id": "f4f2be44-5c5d-4113-9b9e-55bfa89d5d5b",
      "metadata": {},
      "source": [
        "## 3. Vectorize data"
      ]
    },
    {
      "cell_type": "markdown",
      "id": "f300136e-2a85-4095-867d-7723b3d61b2d",
      "metadata": {},
      "source": [
        "Initialize sentence transformer."
      ]
    },
    {
      "cell_type": "code",
      "execution_count": 8,
      "id": "204c4a32-bafd-45d7-928e-3ec1083b4b58",
      "metadata": {},
      "outputs": [],
      "source": [
        "from sentence_transformers import SentenceTransformer\n",
        "\n",
        "model = SentenceTransformer('flax-sentence-embeddings/all_datasets_v3_mpnet-base')"
      ]
    },
    {
      "cell_type": "markdown",
      "id": "fce95741-8094-4a4b-8a4a-f92699471da5",
      "metadata": {},
      "source": [
        "Query the `movies_with_tags` table and store the output in a variable named `result`. The `result <<` syntax in the\n",
        "`%%sql` line indicates that the output from the query should get stored under that variable name."
      ]
    },
    {
      "cell_type": "code",
      "execution_count": 9,
      "id": "920798f0-55b6-4f2d-ba36-7f94e750f684",
      "metadata": {},
      "outputs": [],
      "source": [
        "%%sql result <<\n",
        "SELECT * FROM movies_with_tags"
      ]
    },
    {
      "cell_type": "markdown",
      "id": "08651421-7313-4bb5-87f1-56ea165d45c5",
      "metadata": {},
      "source": [
        "Convert the result from the above SQL into a DataFrame and clean up quotes."
      ]
    },
    {
      "cell_type": "code",
      "execution_count": 10,
      "id": "01d5cf58-65eb-4676-90b9-0d5a9253fd34",
      "metadata": {},
      "outputs": [],
      "source": [
        "import pandas as pd\n",
        "\n",
        "df = pd.DataFrame(result)\n",
        "\n",
        "# Curate the special characters\n",
        "df['title'] = df['title'].str.replace('\"', '')\n",
        "df['allTags'] = df['allTags'].str.replace('\"', '').str.replace(\"'\", '')\n",
        "\n",
        "data = df.to_dict(orient='records')"
      ]
    },
    {
      "cell_type": "markdown",
      "id": "134caeab-a430-4412-91d7-d74b3dd0002b",
      "metadata": {},
      "source": [
        "Check the first row of the list."
      ]
    },
    {
      "cell_type": "code",
      "execution_count": 11,
      "id": "950a5cd3-2b9d-41e7-9e9e-d841b2e92a02",
      "metadata": {},
      "outputs": [],
      "source": [
        "data[0]"
      ]
    },
    {
      "cell_type": "markdown",
      "id": "6b88c557-44b5-4d48-b314-c50d65a4e5d5",
      "metadata": {},
      "source": [
        "Concatenate title and tags."
      ]
    },
    {
      "cell_type": "code",
      "execution_count": 12,
      "id": "a1d9b7f5-409c-4053-a724-39747ce663b8",
      "metadata": {},
      "outputs": [],
      "source": [
        "all_title_type_column = [f'{row[\"title\"]}-{row[\"allTags\"]}' if row[\"title\"] is not None else row[\"title\"] for row in data]"
      ]
    },
    {
      "cell_type": "markdown",
      "id": "77af8001-a7d5-4a24-8290-b025d00ca1f3",
      "metadata": {},
      "source": [
        "Create the embeddings for Title & Tag (~3 minutes)."
      ]
    },
    {
      "cell_type": "code",
      "execution_count": 13,
      "id": "efd8aaa2-feaf-43ce-9f72-f5161d781f00",
      "metadata": {},
      "outputs": [],
      "source": [
        "# Remove [:3000] if you want to vectorize all rows (~60 minutes)\n",
        "all_embeddings = model.encode(all_title_type_column[:3000])\n",
        "all_embeddings.shape"
      ]
    },
    {
      "cell_type": "markdown",
      "id": "1e59050c-d53c-476f-a4cb-ce97f759efa0",
      "metadata": {},
      "source": [
        "Merge the original data with the vector data."
      ]
    },
    {
      "cell_type": "code",
      "execution_count": 14,
      "id": "54b0546d-0e22-4fde-a903-18c714bdd21d",
      "metadata": {},
      "outputs": [],
      "source": [
        "# Remember the list will be only 3,000 elements\n",
        "for row, embedding in zip(data, all_embeddings):\n",
        "    row['embedding'] = embedding"
      ]
    },
    {
      "cell_type": "code",
      "execution_count": 15,
      "id": "1706fa59-d0f4-4378-9c76-2d74d53c428a",
      "metadata": {},
      "outputs": [],
      "source": [
        "data[0]"
      ]
    },
    {
      "cell_type": "markdown",
      "id": "f482feed-edd4-4489-8ab4-cdd5803515f3",
      "metadata": {},
      "source": [
        "## 4. Create table for movie information and vectors"
      ]
    },
    {
      "cell_type": "code",
      "execution_count": 16,
      "id": "32f4d535-8ea6-47a9-9fd3-5215a23f72e3",
      "metadata": {},
      "outputs": [],
      "source": [
        "%%sql\n",
        "DROP TABLE IF EXISTS movie_with_tags_with_vectors;\n",
        "\n",
        "CREATE TABLE movie_with_tags_with_vectors (\n",
        "    movieId BIGINT(20) DEFAULT NULL,\n",
        "    title text CHARACTER SET utf8 COLLATE utf8_general_ci,\n",
        "    genres text CHARACTER SET utf8 COLLATE utf8_general_ci,\n",
        "    allTags longtext CHARACTER SET utf8mb4,\n",
        "    vector BLOB\n",
        ")"
      ]
    },
    {
      "cell_type": "markdown",
      "id": "23570610-0ec1-4c3c-a63b-8221130042cf",
      "metadata": {},
      "source": [
        "Create a database connection using SQLAlchemy. We are going to use an SQLAlchemy connection here because one\n",
        "column of data is numpy arrays. The SingleStoreDB SQLAlchemy driver will automatically convert those to\n",
        "the correct binary format when uploading, so it's a bit more convenient than doing the conversions and\n",
        "formatting manually for the `%sql` magic command."
      ]
    },
    {
      "cell_type": "code",
      "execution_count": 17,
      "id": "46c50550-5961-45df-ace8-65d7b91edc42",
      "metadata": {},
      "outputs": [],
      "source": [
        "from singlestoredb import create_engine\n",
        "\n",
        "conn = create_engine().connect()"
      ]
    },
    {
      "cell_type": "markdown",
      "id": "db42c917-2d53-46c8-96b5-55d7e8b4d327",
      "metadata": {},
      "source": [
        "Insert the data. Some rows might encounter errors due to unsupported characters."
      ]
    },
    {
      "cell_type": "code",
      "execution_count": 18,
      "id": "4cbf8232-7738-49fa-be00-1e7a5f1882b3",
      "metadata": {},
      "outputs": [],
      "source": [
        "import sqlalchemy as sa\n",
        "\n",
        "sql_query = sa.text('''\n",
        "    INSERT INTO movie_with_tags_with_vectors (\n",
        "        movieId,\n",
        "        title,\n",
        "        genres,\n",
        "        allTags,\n",
        "        vector\n",
        "    )\n",
        "    VALUES (\n",
        "        :movieId,\n",
        "        :title,\n",
        "        :genres,\n",
        "        :allTags,\n",
        "        :embedding\n",
        "    )\n",
        "    ''')\n",
        "\n",
        "conn.execute(sql_query, data[:3000])"
      ]
    },
    {
      "cell_type": "markdown",
      "id": "192353be-db56-4cec-8d6e-a258532c6dd9",
      "metadata": {},
      "source": [
        "## 5. Marrying Search \u2764\ufe0f Semantic Search \u2764\ufe0f Analytics"
      ]
    },
    {
      "cell_type": "markdown",
      "id": "edd2d5e9-b4ad-4d10-b638-eabeaaad4846",
      "metadata": {},
      "source": [
        "### Build autocomplete search"
      ]
    },
    {
      "cell_type": "markdown",
      "id": "26e07b98-b934-42b9-935c-1e9d750b7697",
      "metadata": {},
      "source": [
        "This is en experimentat we started with to render a full text search."
      ]
    },
    {
      "cell_type": "code",
      "execution_count": 19,
      "id": "eca42fb8-2591-472b-a607-85c5fb3d5f63",
      "metadata": {},
      "outputs": [],
      "source": [
        "%%sql\n",
        "WITH queryouter AS (\n",
        "                SELECT DISTINCT(title), movieId, MATCH(title) AGAINST ('Pocahontas*') as relevance\n",
        "                FROM movies\n",
        "                WHERE MATCH(title) AGAINST ('Pocahontas*')\n",
        "                ORDER BY relevance DESC\n",
        "                LIMIT 10)\n",
        "    SELECT title, movieId FROM queryouter;"
      ]
    },
    {
      "cell_type": "markdown",
      "id": "9f4d78ba-a0ad-4a4c-98e7-f06ce1281ed1",
      "metadata": {},
      "source": [
        "### Create user favorite movie tables"
      ]
    },
    {
      "cell_type": "code",
      "execution_count": 20,
      "id": "45a78f0a-c6bd-423b-bc5e-df641c78f48e",
      "metadata": {},
      "outputs": [],
      "source": [
        "%%sql\n",
        "CREATE ROWSTORE TABLE IF NOT EXISTS user_choice (\n",
        "    userid text CHARACTER SET utf8 COLLATE utf8_general_ci,\n",
        "    title text CHARACTER SET utf8 COLLATE utf8_general_ci,\n",
        "    ts datetime DEFAULT NULL,\n",
        "    KEY userid (userid)\n",
        ")"
      ]
    },
    {
      "cell_type": "markdown",
      "id": "b6f053f4-5654-48d0-b897-9dfb1aaff016",
      "metadata": {},
      "source": [
        "Enter dummy data for testing purposes."
      ]
    },
    {
      "cell_type": "code",
      "execution_count": 21,
      "id": "98ca4b36-3aa0-43d9-8e9f-ffb9f08e9b72",
      "metadata": {},
      "outputs": [],
      "source": [
        "%%sql\n",
        "INSERT INTO user_choice (userid, title, ts)\n",
        "    VALUES ('user1', 'Zone 39 (1997)', '2022-01-01 00:00:00'),\n",
        "           ('user1', 'Star Trek II: The Wrath of Khan (1982)', '2022-01-01 00:00:00'),\n",
        "           ('user1', 'Giver, The (2014)', '2022-01-01 00:00:00');"
      ]
    },
    {
      "cell_type": "markdown",
      "id": "cbe64201-0260-43be-87c0-20616c34ce59",
      "metadata": {},
      "source": [
        "### Build semantic search for a movie recommendation"
      ]
    },
    {
      "cell_type": "code",
      "execution_count": 22,
      "id": "c2368b35-e2cd-4a7c-82a5-565cabc73f90",
      "metadata": {},
      "outputs": [],
      "source": [
        "%%sql\n",
        "WITH\n",
        "    table_match AS (\n",
        "        SELECT\n",
        "            m.title,\n",
        "            m.movieId,\n",
        "            m.vector\n",
        "        FROM\n",
        "            user_choice t\n",
        "            INNER JOIN movie_with_tags_with_vectors m ON m.title = t.title\n",
        "        WHERE\n",
        "            userid = 'user1'\n",
        "    ),\n",
        "    movie_pairs AS (\n",
        "        SELECT\n",
        "            m1.movieId AS movieId1,\n",
        "            m1.title AS title1,\n",
        "            m2.movieId AS movieId2,\n",
        "            m2.title AS title2,\n",
        "            DOT_PRODUCT(m1.vector, m2.vector) AS similarity\n",
        "        FROM\n",
        "            table_match m1\n",
        "            CROSS JOIN movie_with_tags_with_vectors m2\n",
        "        WHERE\n",
        "            m1.movieId != m2.movieId\n",
        "            AND NOT EXISTS (\n",
        "                SELECT\n",
        "                    1\n",
        "                FROM\n",
        "                    user_choice uc\n",
        "                WHERE\n",
        "                    uc.userid = 'user1'\n",
        "                    AND uc.title = m2.title\n",
        "            )\n",
        "    ),\n",
        "    movie_match AS (\n",
        "        SELECT\n",
        "            movieId1,\n",
        "            title1,\n",
        "            movieId2,\n",
        "            title2,\n",
        "            similarity\n",
        "        FROM\n",
        "            movie_pairs\n",
        "        ORDER BY\n",
        "            similarity DESC\n",
        "    ),\n",
        "    distinct_count AS (\n",
        "        SELECT DISTINCT\n",
        "            movieId2,\n",
        "            title2 AS Title,\n",
        "            ROUND(AVG(similarity), 4) AS Rating_Match\n",
        "        FROM\n",
        "            movie_match\n",
        "        GROUP BY\n",
        "            movieId2,\n",
        "            title2\n",
        "        ORDER BY\n",
        "            Rating_Match DESC\n",
        "    ),\n",
        "    average_ratings AS (\n",
        "        SELECT\n",
        "            movieId,\n",
        "            AVG(rating) AS Avg_Rating\n",
        "        FROM\n",
        "            ratings\n",
        "        GROUP BY\n",
        "            movieId\n",
        "    )\n",
        "SELECT\n",
        "    dc.Title,\n",
        "    dc.Rating_Match as 'Match Score',\n",
        "    ROUND(ar.Avg_Rating, 1) AS 'Average User Rating'\n",
        "FROM\n",
        "    distinct_count dc\n",
        "    JOIN average_ratings ar ON dc.movieId2 = ar.movieId\n",
        "ORDER BY\n",
        "    dc.Rating_Match DESC\n",
        "LIMIT\n",
        "    5;"
      ]
    },
    {
      "cell_type": "markdown",
      "id": "3a9efa4a-1a38-49f3-ba6d-a00b6c90e2b0",
      "metadata": {},
      "source": [
        "## 6. What are you looking for?"
      ]
    },
    {
      "cell_type": "code",
      "execution_count": 23,
      "id": "87547d68-e1c9-4fd8-946f-6b378c9b36f2",
      "metadata": {},
      "outputs": [],
      "source": [
        "search_embedding = model.encode(\"I want see a French comedy movie\")"
      ]
    },
    {
      "cell_type": "code",
      "execution_count": 24,
      "id": "3b70a678-4829-4456-8946-d1dcbf46c98b",
      "metadata": {},
      "outputs": [],
      "source": [
        "sql_query = sa.text('''\n",
        "    SELECT title, genres, DOT_PRODUCT(vector, :vector) AS score FROM movie_with_tags_with_vectors tv\n",
        "    ORDER BY Score DESC\n",
        "    LIMIT 10\n",
        "''')\n",
        "\n",
        "results = conn.execute(sql_query, dict(vector=search_embedding))\n",
        "\n",
        "for i, res in enumerate(results):\n",
        "    print(f\"{i + 1}: {res.title} {res.genres} Score: {res.score}\")"
      ]
    },
    {
      "cell_type": "markdown",
      "id": "be066a74-95ff-4396-85df-bf8f1dd7b553",
      "metadata": {},
      "source": [
        "## Clean up"
      ]
    },
    {
      "cell_type": "code",
      "execution_count": 25,
      "id": "f5f8890c-b7c4-4503-9f5e-a93b5eb45fc6",
      "metadata": {},
      "outputs": [],
      "source": [
        "%%sql\n",
        "DROP DATABASE IF EXISTS movie_recommender"
      ]
    },
    {
      "cell_type": "markdown",
      "id": "0017d0c2-6647-431d-a937-85132af15b1a",
      "metadata": {},
      "source": [
        "<div id=\"singlestore-footer\" style=\"background-color: rgba(194, 193, 199, 0.25); height:2px; margin-bottom:10px\"></div>\n",
        "<div><img src=\"https://raw.githubusercontent.com/singlestore-labs/spaces-notebooks/master/common/images/singlestore-logo-grey.png\" style=\"padding: 0px; margin: 0px; height: 24px\"/></div>"
      ]
    }
  ],
  "metadata": {
    "kernelspec": {
      "display_name": "Python 3 (ipykernel)",
      "language": "python",
      "name": "python3"
    },
    "language_info": {
      "codemirror_mode": {
        "name": "ipython",
        "version": 3
      },
      "file_extension": ".py",
      "mimetype": "text/x-python",
      "name": "python",
      "nbconvert_exporter": "python",
      "pygments_lexer": "ipython3",
      "version": "3.11.4"
    }
  },
  "nbformat": 4,
  "nbformat_minor": 5
}
