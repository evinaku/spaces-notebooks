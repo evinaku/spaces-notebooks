{
  "cells": [
    {
      "cell_type": "markdown",
      "id": "a0efb393-2a46-4833-b5cf-8f048d9695b0",
      "metadata": {},
      "source": [
        "<div id=\"singlestore-header\" style=\"display: flex; background-color: rgba(235, 249, 245, 0.25); padding: 5px;\">\n",
        "    <div id=\"icon-image\" style=\"width: 90px; height: 90px;\">\n",
        "        <img width=\"100%\" height=\"100%\" src=\"https://raw.githubusercontent.com/singlestore-labs/spaces-notebooks/master/common/images/header-icons/database.png\" />\n",
        "    </div>\n",
        "    <div id=\"text\" style=\"padding: 5px; margin-left: 10px;\">\n",
        "        <div id=\"badge\" style=\"display: inline-block; background-color: rgba(0, 0, 0, 0.15); border-radius: 4px; padding: 4px 8px; align-items: center; margin-top: 6px; margin-bottom: -2px; font-size: 80%\">SingleStore Notebooks</div>\n",
        "        <h1 style=\"font-weight: 500; margin: 8px 0 0 4px;\">Ingest data from MONGODB\u00ae to SingleStore using SQL commands</h1>\n",
        "    </div>\n",
        "</div>"
      ]
    },
    {
      "attachments": {},
      "cell_type": "markdown",
      "id": "6d2bb122-3ae2-4eab-bbbd-3e3ba6907c4b",
      "metadata": {},
      "source": [
        "<table style=\"border: 0; border-spacing: 0; width: 100%; background-color: #03010D\"><tr>\n",
        "    <td style=\"padding: 0; margin: 0; background-color: #03010D; width: 33%; text-align: center\"><img src=\"https://raw.githubusercontent.com/singlestore-labs/spaces-notebooks/master/common/images/singlestore-logo-vertical.png\" style=\"height: 200px;\"/></td>\n",
        "    <td style=\"padding: 0; margin: 0; width: 66%; background-color: #03010D; text-align: right\"><img src=\"https://raw.githubusercontent.com/singlestore-labs/spaces-notebooks/master/notebooks/cdc-mongodb-sql-commands/images/cdc-in-header.png\" style=\"height: 250px\"/></td>\n",
        "</tr></table>"
      ]
    },
    {
      "attachments": {},
      "cell_type": "markdown",
      "id": "1b895f1f-fd94-4cdf-ac4d-abfad66279a3",
      "metadata": {},
      "source": [
        "## When do you use SingleStore's native replication capability from MongoDB ?\n",
        "\n",
        "SingleStore's native data replication gives you the ability to do one-time snapshot, or continuous change data capture CDC from MongoDB\u00ae to SingleStoreDB. This provides a quick and easy way to replicate data and power up analytics on MongoDB\u00ae data."
      ]
    },
    {
      "attachments": {},
      "cell_type": "markdown",
      "id": "9e8e1c02-f723-4e0c-88f3-0adb4dc8b0de",
      "metadata": {},
      "source": [
        "## What you will learn in this notebook:\n",
        "\n",
        "Replicate MongoDB\u00ae collections to SingleStore\n",
        "1. Directly without transformations\n",
        "2. Flattening required fields into columns of a table\n",
        "3. Normalizing collection into multiple tables"
      ]
    },
    {
      "attachments": {},
      "cell_type": "markdown",
      "id": "4ceef3c0-c804-48c3-9ca0-dcb7f5abfe27",
      "metadata": {},
      "source": [
        "## 1. Replicate directly without transformations\n",
        "\n",
        "To replicate the required collections, provide the list of collections using `\"collection.include.list\": \"<Collection list>\"` at the time of link creation, the parameter takes a comma-separated list of regular expressions that match collection names (in databaseName.collectionName format)"
      ]
    },
    {
      "cell_type": "code",
      "execution_count": 1,
      "id": "49145680-6e52-4af7-b3f9-f39c5aebf2e7",
      "metadata": {},
      "outputs": [],
      "source": [
        "%%sql\n",
        "DROP DATABASE IF EXISTS sample_analytics;\n",
        "CREATE DATABASE sample_analytics;"
      ]
    },
    {
      "attachments": {},
      "cell_type": "markdown",
      "id": "8636d519-fbfb-46fd-a650-d7c157ffb119",
      "metadata": {},
      "source": [
        "<div class=\"alert alert-block alert-warning\">\n",
        "    <b class=\"fa fa-solid fa-exclamation-circle\"></b>\n",
        "    <div>\n",
        "        <p><b>Action Required</b></p>\n",
        "        <p> Make sure to select a database from the drop-down menu at the top of this notebook. It updates the <tt>connection_url</tt>  to connect to that database.</p>\n",
        "    </div>\n",
        "</div>"
      ]
    },
    {
      "cell_type": "code",
      "execution_count": 2,
      "id": "a88a0436-9b86-4c34-a4e5-196475049152",
      "metadata": {},
      "outputs": [],
      "source": [
        "%%sql\n",
        "CREATE LINK cdclink AS MONGODB\n",
        "CONFIG '{\"mongodb.hosts\":\"ac-t7n47to-shard-00-00.tfutgo0.mongodb.net:27017,ac-t7n47to-shard-00-01.tfutgo0.mongodb.net:27017,ac-t7n47to-shard-00-02.tfutgo0.mongodb.net:27017\",\n",
        "\"collection.include.list\": \"sample_analytics.customers\",\n",
        "\"mongodb.ssl.enabled\":\"true\",\n",
        "\"mongodb.authsource\":\"admin\",\n",
        "\"mongodb.members.auto.discover\": \"true\"\n",
        "    }'\n",
        "CREDENTIALS '{\n",
        "    \"mongodb.user\":\"mongo_sample_reader\",\n",
        "    \"mongodb.password\":\"SingleStoreRocks27017\"\n",
        "    }'"
      ]
    },
    {
      "attachments": {},
      "cell_type": "markdown",
      "id": "a0301e3b-c447-440b-9e01-dd771ed13408",
      "metadata": {},
      "source": [
        "Check if the link got created"
      ]
    },
    {
      "cell_type": "code",
      "execution_count": 3,
      "id": "9cecea80-2b40-49e9-8882-d97ad01e3b0a",
      "metadata": {},
      "outputs": [],
      "source": [
        "%%sql\n",
        "SHOW LINKS;"
      ]
    },
    {
      "attachments": {},
      "cell_type": "markdown",
      "id": "d757f030-0c5d-4864-aa3d-c8cba84216ce",
      "metadata": {},
      "source": [
        "The following step automatically creates the required tables and pipelines on SingleStoreDB for every collection configured for replication"
      ]
    },
    {
      "cell_type": "code",
      "execution_count": 4,
      "id": "356e9f3c-8473-45fa-8918-39c3dfe98403",
      "metadata": {},
      "outputs": [],
      "source": [
        "%%sql\n",
        "CREATE TABLES AS INFER PIPELINE AS LOAD DATA LINK cdclink '*' FORMAT AVRO;"
      ]
    },
    {
      "attachments": {},
      "cell_type": "markdown",
      "id": "6395285d-c68e-49e6-a794-b54f18b53bac",
      "metadata": {},
      "source": [
        "Start pipelines to begin replicating the data"
      ]
    },
    {
      "cell_type": "code",
      "execution_count": 5,
      "id": "76795c17-0235-4d21-92be-49c98bfbc5a9",
      "metadata": {},
      "outputs": [],
      "source": [
        "%%sql\n",
        "START ALL PIPELINES;"
      ]
    },
    {
      "cell_type": "code",
      "execution_count": 6,
      "id": "3647b206-7ee6-45d6-9a5c-f0dceabf51e3",
      "metadata": {},
      "outputs": [],
      "source": [
        "%%sql\n",
        "SHOW TABLES;"
      ]
    },
    {
      "attachments": {},
      "cell_type": "markdown",
      "id": "9f4a5d14-d964-4345-bbea-78a7c8ffa20b",
      "metadata": {},
      "source": [
        "The customer collection from MongoDB are replicated into SingleStore in the default format of _id and _more BSON columns that are compatible with Kai API"
      ]
    },
    {
      "cell_type": "code",
      "execution_count": 7,
      "id": "dd29a515-32c3-4079-bcf1-ba6227790082",
      "metadata": {},
      "outputs": [],
      "source": [
        "%%sql\n",
        "SELECT (_id :> JSON),(_more :> JSON) FROM customers LIMIT 2;"
      ]
    },
    {
      "attachments": {},
      "cell_type": "markdown",
      "id": "65811b88-919b-4bef-8601-988e324f383c",
      "metadata": {},
      "source": [
        "## 2. Flattening required fields from document into columns\n",
        "CDC replication also gives additional flexibility to define your own table structure at SingleStore as you bring in data from MongoDB collections. In the following examples data from MongoDB collections are transformed when brought to SingleStoreDB"
      ]
    },
    {
      "attachments": {},
      "cell_type": "markdown",
      "id": "7fb1effe-85cf-4900-8600-364367c531a8",
      "metadata": {},
      "source": [
        "Fields like `username`, `name`, `email` are flattened into columns of the table and rest of the document is stored in _more column.\n",
        "The following commands create a table, a stored procedure and a pipeline required for the data replication"
      ]
    },
    {
      "cell_type": "code",
      "execution_count": 8,
      "id": "a82364bd-a35a-4b1f-b99d-98837f31a16f",
      "metadata": {},
      "outputs": [],
      "source": [
        "%%sql\n",
        "CREATE TABLE `customers_flattened` (\n",
        "  `_id` bson NOT NULL,\n",
        "  `username` text CHARACTER SET utf8 COLLATE utf8_general_ci,\n",
        "  `name` text CHARACTER SET utf8 COLLATE utf8_general_ci,\n",
        "  `email` text CHARACTER SET utf8 COLLATE utf8_general_ci,\n",
        "  `_more` bson NOT NULL COMMENT 'KAI_MORE' ,\n",
        "  `$_id` as BSON_NORMALIZE_NO_ARRAY(`_id`) PERSISTED longblob COMMENT 'KAI_AUTO' ,\n",
        "  SHARD KEY `__SHARDKEY` (`$_id`),\n",
        "  UNIQUE KEY `__PRIMARY` (`$_id`) USING HASH,\n",
        "  SORT KEY `__UNORDERED` ()\n",
        ")"
      ]
    },
    {
      "cell_type": "code",
      "execution_count": 9,
      "id": "1d4b829a-d2ec-46ee-bdc7-b6bc7bb24176",
      "metadata": {},
      "outputs": [],
      "source": [
        "%%sql\n",
        "CREATE OR REPLACE PROCEDURE `customers_apply_changes`(changes query(`__operation` int(11) NOT NULL, `_id` longblob NOT NULL, `_more` longblob NOT NULL))\n",
        "RETURNS void AS\n",
        "DECLARE rowsDeleted INT;\n",
        "BEGIN REPLACE INTO  `sample_analytics`.`customers_flattened` SELECT `_id`:>BSON AS `_id`, BSON_EXTRACT_STRING(`_more`,'username') AS `username`, BSON_EXTRACT_STRING(`_more`,'name') AS `name`, BSON_EXTRACT_STRING(`_more`,'email') AS `email`,\n",
        "BSON_EXCLUDE_MASK(`_more`,'{\"_id\": 1,\"username\": 1,\"name\": 1,\"email\": 1}') AS `_more`FROM changes WHERE __operation != 1;\n",
        "SELECT count(*) INTO rowsDeleted FROM changes WHERE changes.__operation = 1;\n",
        "IF rowsDeleted > 0 THEN\n",
        "DELETE dest FROM `sample_analytics`.`customers_flattened` AS dest INNER JOIN changes ON dest.`$_id` = BSON_NORMALIZE_NO_ARRAY(changes.`_id`) WHERE changes.__operation = 1; END IF;\n",
        "END;"
      ]
    },
    {
      "cell_type": "code",
      "execution_count": 10,
      "id": "f8ea1ec3-e690-4417-af75-bcde15ada610",
      "metadata": {},
      "outputs": [],
      "source": [
        "%%sql\n",
        "CREATE AGGREGATOR PIPELINE `customers_apply_changes`\n",
        "AS LOAD DATA LINK cdclink 'customers'\n",
        "BATCH_INTERVAL 2500\n",
        "MAX_PARTITIONS_PER_BATCH 1\n",
        "DISABLE OFFSETS METADATA GC\n",
        "REPLACE\n",
        "KEY(`_id`)\n",
        "INTO PROCEDURE `customers_apply_changes`\n",
        "FORMAT AVRO\n",
        "(\n",
        "    __operation <- `__operation`,\n",
        "    _id <- `payload`::`_id`,\n",
        "    _more <- `payload`::`_more`\n",
        ")"
      ]
    },
    {
      "cell_type": "code",
      "execution_count": 11,
      "id": "ff3a5285-624a-4d36-86e1-85c2ee92c125",
      "metadata": {},
      "outputs": [],
      "source": [
        "%%sql\n",
        "START ALL PIPELINES;"
      ]
    },
    {
      "cell_type": "code",
      "execution_count": 12,
      "id": "327673e2-dffb-46e0-92f7-b2c73ab137ae",
      "metadata": {},
      "outputs": [],
      "source": [
        "%%sql\n",
        "SHOW TABLES;"
      ]
    },
    {
      "cell_type": "code",
      "execution_count": 13,
      "id": "a5cf5747-55e3-4c13-8c28-34be44b34a4a",
      "metadata": {},
      "outputs": [],
      "source": [
        "%%sql\n",
        "SELECT _id :> JSON,username, name, email, _more :> JSON FROM customers_flattened LIMIT 10;"
      ]
    },
    {
      "attachments": {},
      "cell_type": "markdown",
      "id": "53a66a38-ddbe-44a7-b768-848793353639",
      "metadata": {},
      "source": [
        "## 3. Normalize a collection into multiple tables\n",
        "In the following example a collection of MongoDB is normalized into two different tables on SingleStore."
      ]
    },
    {
      "cell_type": "code",
      "execution_count": 14,
      "id": "57f1594c-aec8-48a5-b0eb-c4574e711276",
      "metadata": {},
      "outputs": [],
      "source": [
        "%%sql\n",
        "DROP DATABASE IF EXISTS sample_airbnb;\n",
        "CREATE DATABASE sample_airbnb;"
      ]
    },
    {
      "attachments": {},
      "cell_type": "markdown",
      "id": "6e55bb14-3304-4ec0-8693-ba9168df43d4",
      "metadata": {},
      "source": [
        "<div class=\"alert alert-block alert-warning\">\n",
        "    <b class=\"fa fa-solid fa-exclamation-circle\"></b>\n",
        "    <div>\n",
        "        <p><b>Action Required</b></p>\n",
        "        <p> Make sure to select a database from the drop-down menu at the top of this notebook. It updates the <tt>connection_url</tt>  to connect to that database.</p>\n",
        "    </div>\n",
        "</div>"
      ]
    },
    {
      "cell_type": "code",
      "execution_count": 15,
      "id": "48fa8228-4a39-4553-a535-981b4a42a0a1",
      "metadata": {},
      "outputs": [],
      "source": [
        "%%sql\n",
        "CREATE LINK source_listingsAndReviews AS MONGODB\n",
        "CONFIG '{\"mongodb.hosts\":\"ac-t7n47to-shard-00-00.tfutgo0.mongodb.net:27017,ac-t7n47to-shard-00-01.tfutgo0.mongodb.net:27017,ac-t7n47to-shard-00-02.tfutgo0.mongodb.net:27017\",\n",
        "\"collection.include.list\": \"sample_airbnb.*\",\n",
        "\"mongodb.ssl.enabled\":\"true\",\n",
        "\"mongodb.authsource\":\"admin\",\n",
        "\"mongodb.members.auto.discover\": \"true\"\n",
        "    }'\n",
        "CREDENTIALS '{\n",
        "    \"mongodb.user\":\"mongo_sample_reader\",\n",
        "    \"mongodb.password\":\"SingleStoreRocks27017\"\n",
        "    }'"
      ]
    },
    {
      "cell_type": "code",
      "execution_count": 16,
      "id": "87580303-6afc-4855-966f-d6a9b8289c2b",
      "metadata": {},
      "outputs": [],
      "source": [
        "%%sql\n",
        "SHOW LINKS;"
      ]
    },
    {
      "cell_type": "code",
      "execution_count": 17,
      "id": "16a917d3-0515-499c-a019-5ac889ca7a37",
      "metadata": {},
      "outputs": [],
      "source": [
        "%%sql\n",
        "CREATE TABLE `listings` (\n",
        "  `_id` BSON NOT NULL,\n",
        "  `name` text CHARACTER SET utf8 COLLATE utf8_general_ci,\n",
        "  `access` text CHARACTER SET utf8 COLLATE utf8_general_ci,\n",
        "  `accommodates` int(11) DEFAULT NULL,\n",
        "  `_more` BSON NOT NULL,\n",
        "  `$_id` as BSON_NORMALIZE_NO_ARRAY(`_id`) PERSISTED longblob,\n",
        "  SHARD KEY `__SHARDKEY` (`$_id`),\n",
        "  UNIQUE KEY `__PRIMARY` (`$_id`) USING HASH,\n",
        "  SORT KEY `__UNORDERED` ()\n",
        ")"
      ]
    },
    {
      "cell_type": "code",
      "execution_count": 18,
      "id": "609e6fe7-194a-48eb-a55e-a9b49b6180f6",
      "metadata": {},
      "outputs": [],
      "source": [
        "%%sql\n",
        "CREATE TABLE `reviews` (\n",
        "  `listingid` BSON NOT NULL,\n",
        "  `review_scores_accuracy` int(11) DEFAULT NULL,\n",
        "  `review_scores_cleanliness` int(11) DEFAULT NULL,\n",
        "  `review_scores_rating` text CHARACTER SET utf8 COLLATE utf8_general_ci,\n",
        "  `$listingid` as BSON_NORMALIZE_NO_ARRAY(`listingid`) PERSISTED longblob,\n",
        "  SHARD KEY `__SHARDKEY` (`$listingid`),\n",
        "  UNIQUE KEY `__PRIMARY` (`$listingid`) USING HASH,\n",
        "  SORT KEY `__UNORDERED` ()\n",
        ")"
      ]
    },
    {
      "cell_type": "code",
      "execution_count": 19,
      "id": "1029b248-a926-4e04-8071-ca7353ed7f4d",
      "metadata": {},
      "outputs": [],
      "source": [
        "%%sql\n",
        "CREATE OR REPLACE PROCEDURE `listingsAndReviews_apply_changes`(changes query(`__operation` int(11) NOT NULL, `_id` longblob NOT NULL, `_more` longblob NOT NULL))\n",
        "RETURNS void AS\n",
        "DECLARE rowsDeleted INT;\n",
        "BEGIN\n",
        "\n",
        "REPLACE INTO `listings` SELECT `_id`:>BSON AS `_id`, BSON_EXTRACT_STRING(`_more`,'name') AS `name`, BSON_EXTRACT_STRING(`_more`,'access') AS `access`,\n",
        "BSON_EXTRACT_BIGINT(`_more`,'accommodates') AS `accommodates`, BSON_EXCLUDE_MASK(`_more`,'{\"_id\": 1,\"name\": 1,\"review_scores\": 1,\"access\" : 1, \"accommodates\" : 1}') AS `_more`\n",
        "FROM changes WHERE __operation != 1;\n",
        "\n",
        "REPLACE INTO `reviews` SELECT `_id`:>BSON AS `listingid`, BSON_EXTRACT_BIGINT(`_more`,'review_scores','review_scores_accuracy') AS `review_scores_accuracy`,\n",
        "BSON_EXTRACT_BIGINT(`_more`,'review_scores','review_scores_cleanliness') AS `review_scores_cleanliness`, BSON_EXTRACT_BIGINT(`_more`,'review_scores','review_scores_rating') AS `review_scores_rating`\n",
        "FROM changes WHERE __operation != 1;\n",
        "\n",
        "SELECT count(*) INTO rowsDeleted FROM changes WHERE changes.__operation = 1;\n",
        "IF rowsDeleted > 0 THEN\n",
        "DELETE dest FROM `listings` AS dest INNER JOIN changes ON dest.`$_id` = BSON_NORMALIZE_NO_ARRAY(changes.`_id`) WHERE changes.__operation = 1;\n",
        "DELETE dest FROM `reviews` AS dest INNER JOIN changes ON dest.`$listingid` = BSON_NORMALIZE_NO_ARRAY(changes.`_id`) WHERE changes.__operation = 1;\n",
        "END IF;\n",
        "\n",
        "END;"
      ]
    },
    {
      "cell_type": "code",
      "execution_count": 20,
      "id": "e6bfa806-0f4f-4953-9580-6a6f345811e3",
      "metadata": {},
      "outputs": [],
      "source": [
        "%%sql\n",
        "CREATE AGGREGATOR PIPELINE `listingsAndReviews`\n",
        "AS LOAD DATA LINK source_listingsAndReviews 'sample_airbnb.listingsAndReviews'\n",
        "BATCH_INTERVAL 2500\n",
        "MAX_PARTITIONS_PER_BATCH 1\n",
        "DISABLE OFFSETS METADATA GC\n",
        "REPLACE\n",
        "KEY(`_id`)\n",
        "INTO PROCEDURE `listingsAndReviews_apply_changes`\n",
        "FORMAT AVRO\n",
        "(\n",
        "    __operation <- `__operation`,\n",
        "    _id <- `payload`::`_id`,\n",
        "    _more <- `payload`::`_more`\n",
        ")"
      ]
    },
    {
      "cell_type": "code",
      "execution_count": 21,
      "id": "255a27a9-96d6-4cbb-bed8-7c48612c82da",
      "metadata": {},
      "outputs": [],
      "source": [
        "%%sql\n",
        "START ALL PIPELINES;"
      ]
    },
    {
      "cell_type": "code",
      "execution_count": 22,
      "id": "6e23b185-1997-4749-be4c-66612672cb42",
      "metadata": {},
      "outputs": [],
      "source": [
        "%%sql\n",
        "SHOW TABLES;"
      ]
    },
    {
      "cell_type": "code",
      "execution_count": 23,
      "id": "64cb77e2-f82b-4147-b632-13f3b944ce8f",
      "metadata": {},
      "outputs": [],
      "source": [
        "%%sql\n",
        "SELECT _id:>JSON ,name, access, accommodates FROM listings LIMIT 10;"
      ]
    },
    {
      "cell_type": "code",
      "execution_count": 24,
      "id": "19c61f92-2294-4190-9b98-a4c96b03bdaf",
      "metadata": {},
      "outputs": [],
      "source": [
        "%%sql\n",
        "SELECT listingid:>JSON, review_scores_accuracy,review_scores_cleanliness, review_scores_rating FROM reviews LIMIT 10;"
      ]
    },
    {
      "cell_type": "markdown",
      "id": "86aa2824-88c8-4d4a-a459-f2defc32d937",
      "metadata": {},
      "source": [
        "<div id=\"singlestore-footer\" style=\"background-color: rgba(194, 193, 199, 0.25); height:2px; margin-bottom:10px\"></div>\n",
        "<div><img src=\"https://raw.githubusercontent.com/singlestore-labs/spaces-notebooks/master/common/images/singlestore-logo-grey.png\" style=\"padding: 0px; margin: 0px; height: 24px\"/></div>"
      ]
    }
  ],
  "metadata": {
    "kernelspec": {
      "display_name": "Python 3 (ipykernel)",
      "language": "python",
      "name": "python3"
    },
    "language_info": {
      "codemirror_mode": {
        "name": "ipython",
        "version": 3
      },
      "file_extension": ".py",
      "mimetype": "text/x-python",
      "name": "python",
      "nbconvert_exporter": "python",
      "pygments_lexer": "ipython3",
      "version": "3.11.6"
    }
  },
  "nbformat": 4,
  "nbformat_minor": 5
}
